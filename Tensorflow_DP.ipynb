{
 "cells": [
  {
   "cell_type": "code",
   "execution_count": 1,
   "id": "a9582f2a",
   "metadata": {},
   "outputs": [],
   "source": [
    "import tensorflow_privacy\n",
    "import tensorflow as tf\n",
    "from tensorflow_privacy.privacy.analysis import compute_dp_sgd_privacy"
   ]
  },
  {
   "cell_type": "code",
   "execution_count": 2,
   "id": "1cfc6c9f",
   "metadata": {
    "id": "1cfc6c9f"
   },
   "outputs": [],
   "source": [
    "%matplotlib inline\n",
    "import numpy as np\n",
    "import pandas as pd\n",
    "from scipy import stats\n",
    "import matplotlib.pyplot as plt\n",
    "import seaborn as sns\n",
    "from sklearn.model_selection import train_test_split\n",
    "# Importing Classifier Modules\n",
    "import sklearn\n",
    "from sklearn.metrics import mean_squared_error as MSE\n",
    "from sklearn.model_selection import cross_val_score\n",
    "from sklearn.tree import DecisionTreeRegressor\n",
    "\n",
    "pd.set_option('display.max_columns', None)\n",
    "sns.set(rc={'figure.figsize':(8,4)})"
   ]
  },
  {
   "cell_type": "markdown",
   "id": "a90e17e0",
   "metadata": {
    "id": "a90e17e0"
   },
   "source": [
    "# Data Cleaning\n",
    "\n",
    "1) We will increase the complexity of our model slightly by increasing the number of features. Keep the following features:\n",
    "\n",
    "- T_degC (water temperature)\n",
    "- Salnty (salinity of water)\n",
    "- STheta (density of water)\n",
    "- O2ml_L (milliliters of dissolved oxygen per liter of water)\n",
    "- Depthm (depth in meters)"
   ]
  },
  {
   "cell_type": "code",
   "execution_count": 4,
   "id": "2ca4fac4",
   "metadata": {
    "id": "2ca4fac4",
    "outputId": "b2c8f705-4c91-49e7-d3d8-22a3f5729ccd"
   },
   "outputs": [
    {
     "name": "stderr",
     "output_type": "stream",
     "text": [
      "c:\\Users\\58386\\anaconda3\\lib\\site-packages\\IPython\\core\\interactiveshell.py:3172: DtypeWarning: Columns (47,73) have mixed types.Specify dtype option on import or set low_memory=False.\n",
      "  has_raised = await self.run_ast_nodes(code_ast.body, cell_name,\n"
     ]
    }
   ],
   "source": [
    "df = pd.read_csv('bottle.csv')"
   ]
  },
  {
   "cell_type": "code",
   "execution_count": 5,
   "id": "ee328de4",
   "metadata": {
    "id": "ee328de4"
   },
   "outputs": [],
   "source": [
    "df = df[['T_degC','Salnty', 'STheta','O2ml_L','Depthm']]"
   ]
  },
  {
   "cell_type": "code",
   "execution_count": 6,
   "id": "3045d570",
   "metadata": {
    "id": "3045d570",
    "outputId": "86e4bf07-55ad-4e22-d91d-571b6db98380",
    "scrolled": true
   },
   "outputs": [
    {
     "data": {
      "text/html": [
       "<div>\n",
       "<style scoped>\n",
       "    .dataframe tbody tr th:only-of-type {\n",
       "        vertical-align: middle;\n",
       "    }\n",
       "\n",
       "    .dataframe tbody tr th {\n",
       "        vertical-align: top;\n",
       "    }\n",
       "\n",
       "    .dataframe thead th {\n",
       "        text-align: right;\n",
       "    }\n",
       "</style>\n",
       "<table border=\"1\" class=\"dataframe\">\n",
       "  <thead>\n",
       "    <tr style=\"text-align: right;\">\n",
       "      <th></th>\n",
       "      <th>T_degC</th>\n",
       "      <th>Salnty</th>\n",
       "      <th>STheta</th>\n",
       "      <th>O2ml_L</th>\n",
       "      <th>Depthm</th>\n",
       "    </tr>\n",
       "  </thead>\n",
       "  <tbody>\n",
       "    <tr>\n",
       "      <th>0</th>\n",
       "      <td>10.50</td>\n",
       "      <td>33.440</td>\n",
       "      <td>25.649</td>\n",
       "      <td>NaN</td>\n",
       "      <td>0</td>\n",
       "    </tr>\n",
       "    <tr>\n",
       "      <th>1</th>\n",
       "      <td>10.46</td>\n",
       "      <td>33.440</td>\n",
       "      <td>25.656</td>\n",
       "      <td>NaN</td>\n",
       "      <td>8</td>\n",
       "    </tr>\n",
       "    <tr>\n",
       "      <th>2</th>\n",
       "      <td>10.46</td>\n",
       "      <td>33.437</td>\n",
       "      <td>25.654</td>\n",
       "      <td>NaN</td>\n",
       "      <td>10</td>\n",
       "    </tr>\n",
       "    <tr>\n",
       "      <th>3</th>\n",
       "      <td>10.45</td>\n",
       "      <td>33.420</td>\n",
       "      <td>25.643</td>\n",
       "      <td>NaN</td>\n",
       "      <td>19</td>\n",
       "    </tr>\n",
       "    <tr>\n",
       "      <th>4</th>\n",
       "      <td>10.45</td>\n",
       "      <td>33.421</td>\n",
       "      <td>25.643</td>\n",
       "      <td>NaN</td>\n",
       "      <td>20</td>\n",
       "    </tr>\n",
       "  </tbody>\n",
       "</table>\n",
       "</div>"
      ],
      "text/plain": [
       "   T_degC  Salnty  STheta  O2ml_L  Depthm\n",
       "0   10.50  33.440  25.649     NaN       0\n",
       "1   10.46  33.440  25.656     NaN       8\n",
       "2   10.46  33.437  25.654     NaN      10\n",
       "3   10.45  33.420  25.643     NaN      19\n",
       "4   10.45  33.421  25.643     NaN      20"
      ]
     },
     "execution_count": 6,
     "metadata": {},
     "output_type": "execute_result"
    }
   ],
   "source": [
    "df.head()"
   ]
  },
  {
   "cell_type": "markdown",
   "id": "6205d5b6",
   "metadata": {
    "id": "6205d5b6"
   },
   "source": [
    "2) Remove NaN / NA values from dataset (prior to building train/test sets) (same as HW #1):\n",
    "- Shape of your data should be: (661268, 5)\n"
   ]
  },
  {
   "cell_type": "code",
   "execution_count": 7,
   "id": "602a00ee",
   "metadata": {
    "id": "602a00ee",
    "outputId": "8f124c28-6b9f-4945-deee-48eb1ef5c459"
   },
   "outputs": [
    {
     "data": {
      "text/plain": [
       "(661268, 5)"
      ]
     },
     "execution_count": 7,
     "metadata": {},
     "output_type": "execute_result"
    }
   ],
   "source": [
    "df = df.dropna()\n",
    "df.shape"
   ]
  },
  {
   "cell_type": "markdown",
   "id": "bb9a08b6",
   "metadata": {
    "id": "bb9a08b6"
   },
   "source": [
    "3) Remove any STheta outliers (same as HW #1).\n",
    "- Shape of your data should be: (661268, 5)\n",
    "- Note: Outliers for STheta might have been removed due to NAs in new features. Be sure to verify this on your own."
   ]
  },
  {
   "cell_type": "code",
   "execution_count": 8,
   "id": "0ac736e9",
   "metadata": {
    "id": "0ac736e9",
    "outputId": "fbbf3f11-75fc-45f7-d38b-0f5bf75f110f"
   },
   "outputs": [
    {
     "name": "stderr",
     "output_type": "stream",
     "text": [
      "C:\\Users\\58386\\AppData\\Local\\Temp/ipykernel_9992/2588158861.py:7: UserWarning: Matplotlib is currently using module://matplotlib_inline.backend_inline, which is a non-GUI backend, so cannot show the figure.\n",
      "  fig.show()\n"
     ]
    },
    {
     "data": {
      "image/png": "[encoded data removed]",
      "text/plain": [
       "<Figure size 864x288 with 2 Axes>"
      ]
     },
     "metadata": {},
     "output_type": "display_data"
    }
   ],
   "source": [
    "fig, ax = plt.subplots(1, 2, figsize=(12,4))\n",
    "\n",
    "ax[0].scatter(df.Salnty, df.T_degC, alpha=0.5)\n",
    "\n",
    "ax[1].scatter(df.STheta, df.T_degC, alpha=0.5)\n",
    "\n",
    "fig.show()"
   ]
  },
  {
   "cell_type": "code",
   "execution_count": 9,
   "id": "cfe8506d",
   "metadata": {
    "id": "cfe8506d",
    "outputId": "5853eb0b-6a27-4a00-a821-7eb892e104e6"
   },
   "outputs": [
    {
     "data": {
      "text/plain": [
       "(661268, 5)"
      ]
     },
     "execution_count": 9,
     "metadata": {},
     "output_type": "execute_result"
    }
   ],
   "source": [
    "df = df[df['STheta']<200]\n",
    "df.shape\n",
    "# Outliers for STheta have been removed due to NAs in new features. "
   ]
  },
  {
   "cell_type": "code",
   "execution_count": 10,
   "id": "05e98205",
   "metadata": {
    "id": "05e98205"
   },
   "outputs": [],
   "source": [
    "df.to_csv('data.csv',index=False)"
   ]
  },
  {
   "cell_type": "markdown",
   "id": "950d5366",
   "metadata": {
    "id": "950d5366"
   },
   "source": [
    "# Introduce incorrect data/outliers/gaps"
   ]
  },
  {
   "cell_type": "code",
   "execution_count": 11,
   "id": "7d0323ab",
   "metadata": {
    "id": "7d0323ab",
    "outputId": "cfe32930-1665-43b4-f603-67304d257a24"
   },
   "outputs": [
    {
     "data": {
      "text/html": [
       "<div>\n",
       "<style scoped>\n",
       "    .dataframe tbody tr th:only-of-type {\n",
       "        vertical-align: middle;\n",
       "    }\n",
       "\n",
       "    .dataframe tbody tr th {\n",
       "        vertical-align: top;\n",
       "    }\n",
       "\n",
       "    .dataframe thead th {\n",
       "        text-align: right;\n",
       "    }\n",
       "</style>\n",
       "<table border=\"1\" class=\"dataframe\">\n",
       "  <thead>\n",
       "    <tr style=\"text-align: right;\">\n",
       "      <th></th>\n",
       "      <th>T_degC</th>\n",
       "      <th>Salnty</th>\n",
       "      <th>STheta</th>\n",
       "      <th>O2ml_L</th>\n",
       "      <th>Depthm</th>\n",
       "    </tr>\n",
       "  </thead>\n",
       "  <tbody>\n",
       "    <tr>\n",
       "      <th>count</th>\n",
       "      <td>661268.000000</td>\n",
       "      <td>661268.000000</td>\n",
       "      <td>661268.000000</td>\n",
       "      <td>661268.000000</td>\n",
       "      <td>661268.00000</td>\n",
       "    </tr>\n",
       "    <tr>\n",
       "      <th>mean</th>\n",
       "      <td>10.917560</td>\n",
       "      <td>33.832800</td>\n",
       "      <td>25.797882</td>\n",
       "      <td>3.416076</td>\n",
       "      <td>219.73400</td>\n",
       "    </tr>\n",
       "    <tr>\n",
       "      <th>std</th>\n",
       "      <td>4.224529</td>\n",
       "      <td>0.460338</td>\n",
       "      <td>1.009609</td>\n",
       "      <td>2.068615</td>\n",
       "      <td>311.15039</td>\n",
       "    </tr>\n",
       "    <tr>\n",
       "      <th>min</th>\n",
       "      <td>1.440000</td>\n",
       "      <td>29.402000</td>\n",
       "      <td>20.996000</td>\n",
       "      <td>-0.010000</td>\n",
       "      <td>0.00000</td>\n",
       "    </tr>\n",
       "    <tr>\n",
       "      <th>25%</th>\n",
       "      <td>7.800000</td>\n",
       "      <td>33.480000</td>\n",
       "      <td>24.941000</td>\n",
       "      <td>1.400000</td>\n",
       "      <td>49.00000</td>\n",
       "    </tr>\n",
       "    <tr>\n",
       "      <th>50%</th>\n",
       "      <td>10.160000</td>\n",
       "      <td>33.854000</td>\n",
       "      <td>25.972000</td>\n",
       "      <td>3.470000</td>\n",
       "      <td>125.00000</td>\n",
       "    </tr>\n",
       "    <tr>\n",
       "      <th>75%</th>\n",
       "      <td>14.010000</td>\n",
       "      <td>34.184800</td>\n",
       "      <td>26.634000</td>\n",
       "      <td>5.510000</td>\n",
       "      <td>300.00000</td>\n",
       "    </tr>\n",
       "    <tr>\n",
       "      <th>max</th>\n",
       "      <td>31.140000</td>\n",
       "      <td>37.034000</td>\n",
       "      <td>28.083000</td>\n",
       "      <td>11.130000</td>\n",
       "      <td>5351.00000</td>\n",
       "    </tr>\n",
       "  </tbody>\n",
       "</table>\n",
       "</div>"
      ],
      "text/plain": [
       "              T_degC         Salnty         STheta         O2ml_L  \\\n",
       "count  661268.000000  661268.000000  661268.000000  661268.000000   \n",
       "mean       10.917560      33.832800      25.797882       3.416076   \n",
       "std         4.224529       0.460338       1.009609       2.068615   \n",
       "min         1.440000      29.402000      20.996000      -0.010000   \n",
       "25%         7.800000      33.480000      24.941000       1.400000   \n",
       "50%        10.160000      33.854000      25.972000       3.470000   \n",
       "75%        14.010000      34.184800      26.634000       5.510000   \n",
       "max        31.140000      37.034000      28.083000      11.130000   \n",
       "\n",
       "             Depthm  \n",
       "count  661268.00000  \n",
       "mean      219.73400  \n",
       "std       311.15039  \n",
       "min         0.00000  \n",
       "25%        49.00000  \n",
       "50%       125.00000  \n",
       "75%       300.00000  \n",
       "max      5351.00000  "
      ]
     },
     "execution_count": 11,
     "metadata": {},
     "output_type": "execute_result"
    }
   ],
   "source": [
    "df.describe()"
   ]
  },
  {
   "cell_type": "code",
   "execution_count": 12,
   "id": "7e1cab66",
   "metadata": {
    "id": "7e1cab66"
   },
   "outputs": [],
   "source": [
    "# introduce 10% total data size of outliers\n",
    "dirty_df = df.copy()\n",
    "\n",
    "ncolumns = len(dirty_df.columns)\n",
    "\n",
    "# num_dirty = round(len(df)*0.1)\n",
    "num_dirty = 1000\n",
    "\n",
    "for i in range(num_dirty):\n",
    "    noise = np.random.randint(0 , 100 , ncolumns)\n",
    "    dirty_df.loc[len(dirty_df)+i]=noise\n",
    "    #df.append(noise)"
   ]
  },
  {
   "cell_type": "code",
   "execution_count": 13,
   "id": "f6a3e761",
   "metadata": {
    "id": "f6a3e761",
    "outputId": "7cf31da1-36b6-4aba-c979-f3163d84da1c"
   },
   "outputs": [
    {
     "data": {
      "text/html": [
       "<div>\n",
       "<style scoped>\n",
       "    .dataframe tbody tr th:only-of-type {\n",
       "        vertical-align: middle;\n",
       "    }\n",
       "\n",
       "    .dataframe tbody tr th {\n",
       "        vertical-align: top;\n",
       "    }\n",
       "\n",
       "    .dataframe thead th {\n",
       "        text-align: right;\n",
       "    }\n",
       "</style>\n",
       "<table border=\"1\" class=\"dataframe\">\n",
       "  <thead>\n",
       "    <tr style=\"text-align: right;\">\n",
       "      <th></th>\n",
       "      <th>T_degC</th>\n",
       "      <th>Salnty</th>\n",
       "      <th>STheta</th>\n",
       "      <th>O2ml_L</th>\n",
       "      <th>Depthm</th>\n",
       "    </tr>\n",
       "  </thead>\n",
       "  <tbody>\n",
       "    <tr>\n",
       "      <th>0</th>\n",
       "      <td>10.300</td>\n",
       "      <td>33.0300</td>\n",
       "      <td>25.36400</td>\n",
       "      <td>5.900</td>\n",
       "      <td>0</td>\n",
       "    </tr>\n",
       "    <tr>\n",
       "      <th>1</th>\n",
       "      <td>18.460</td>\n",
       "      <td>32.9200</td>\n",
       "      <td>23.56800</td>\n",
       "      <td>6.020</td>\n",
       "      <td>6</td>\n",
       "    </tr>\n",
       "    <tr>\n",
       "      <th>2</th>\n",
       "      <td>10.290</td>\n",
       "      <td>32.9510</td>\n",
       "      <td>25.30400</td>\n",
       "      <td>6.040</td>\n",
       "      <td>10</td>\n",
       "    </tr>\n",
       "    <tr>\n",
       "      <th>3</th>\n",
       "      <td>10.290</td>\n",
       "      <td>32.9900</td>\n",
       "      <td>25.33500</td>\n",
       "      <td>6.060</td>\n",
       "      <td>15</td>\n",
       "    </tr>\n",
       "    <tr>\n",
       "      <th>4</th>\n",
       "      <td>10.330</td>\n",
       "      <td>33.0050</td>\n",
       "      <td>25.33900</td>\n",
       "      <td>6.040</td>\n",
       "      <td>20</td>\n",
       "    </tr>\n",
       "    <tr>\n",
       "      <th>...</th>\n",
       "      <td>...</td>\n",
       "      <td>...</td>\n",
       "      <td>...</td>\n",
       "      <td>...</td>\n",
       "      <td>...</td>\n",
       "    </tr>\n",
       "    <tr>\n",
       "      <th>661263</th>\n",
       "      <td>18.744</td>\n",
       "      <td>33.4083</td>\n",
       "      <td>23.87055</td>\n",
       "      <td>5.805</td>\n",
       "      <td>0</td>\n",
       "    </tr>\n",
       "    <tr>\n",
       "      <th>661264</th>\n",
       "      <td>18.744</td>\n",
       "      <td>33.4083</td>\n",
       "      <td>23.87072</td>\n",
       "      <td>5.805</td>\n",
       "      <td>2</td>\n",
       "    </tr>\n",
       "    <tr>\n",
       "      <th>661265</th>\n",
       "      <td>18.692</td>\n",
       "      <td>33.4150</td>\n",
       "      <td>23.88911</td>\n",
       "      <td>5.796</td>\n",
       "      <td>5</td>\n",
       "    </tr>\n",
       "    <tr>\n",
       "      <th>661266</th>\n",
       "      <td>18.161</td>\n",
       "      <td>33.4062</td>\n",
       "      <td>24.01426</td>\n",
       "      <td>5.816</td>\n",
       "      <td>10</td>\n",
       "    </tr>\n",
       "    <tr>\n",
       "      <th>661267</th>\n",
       "      <td>17.533</td>\n",
       "      <td>33.3880</td>\n",
       "      <td>24.15297</td>\n",
       "      <td>5.774</td>\n",
       "      <td>15</td>\n",
       "    </tr>\n",
       "  </tbody>\n",
       "</table>\n",
       "<p>661268 rows × 5 columns</p>\n",
       "</div>"
      ],
      "text/plain": [
       "        T_degC   Salnty    STheta  O2ml_L  Depthm\n",
       "0       10.300  33.0300  25.36400   5.900       0\n",
       "1       18.460  32.9200  23.56800   6.020       6\n",
       "2       10.290  32.9510  25.30400   6.040      10\n",
       "3       10.290  32.9900  25.33500   6.060      15\n",
       "4       10.330  33.0050  25.33900   6.040      20\n",
       "...        ...      ...       ...     ...     ...\n",
       "661263  18.744  33.4083  23.87055   5.805       0\n",
       "661264  18.744  33.4083  23.87072   5.805       2\n",
       "661265  18.692  33.4150  23.88911   5.796       5\n",
       "661266  18.161  33.4062  24.01426   5.816      10\n",
       "661267  17.533  33.3880  24.15297   5.774      15\n",
       "\n",
       "[661268 rows x 5 columns]"
      ]
     },
     "execution_count": 13,
     "metadata": {},
     "output_type": "execute_result"
    }
   ],
   "source": [
    "df"
   ]
  },
  {
   "cell_type": "code",
   "execution_count": 14,
   "id": "743ac9e8",
   "metadata": {
    "id": "743ac9e8",
    "outputId": "50dd3faf-f8cc-460e-b682-e3d36c4432ce"
   },
   "outputs": [
    {
     "data": {
      "text/html": [
       "<div>\n",
       "<style scoped>\n",
       "    .dataframe tbody tr th:only-of-type {\n",
       "        vertical-align: middle;\n",
       "    }\n",
       "\n",
       "    .dataframe tbody tr th {\n",
       "        vertical-align: top;\n",
       "    }\n",
       "\n",
       "    .dataframe thead th {\n",
       "        text-align: right;\n",
       "    }\n",
       "</style>\n",
       "<table border=\"1\" class=\"dataframe\">\n",
       "  <thead>\n",
       "    <tr style=\"text-align: right;\">\n",
       "      <th></th>\n",
       "      <th>T_degC</th>\n",
       "      <th>Salnty</th>\n",
       "      <th>STheta</th>\n",
       "      <th>O2ml_L</th>\n",
       "      <th>Depthm</th>\n",
       "    </tr>\n",
       "  </thead>\n",
       "  <tbody>\n",
       "    <tr>\n",
       "      <th>0</th>\n",
       "      <td>10.30</td>\n",
       "      <td>33.030</td>\n",
       "      <td>25.364</td>\n",
       "      <td>5.90</td>\n",
       "      <td>0</td>\n",
       "    </tr>\n",
       "    <tr>\n",
       "      <th>1</th>\n",
       "      <td>18.46</td>\n",
       "      <td>32.920</td>\n",
       "      <td>23.568</td>\n",
       "      <td>6.02</td>\n",
       "      <td>6</td>\n",
       "    </tr>\n",
       "    <tr>\n",
       "      <th>2</th>\n",
       "      <td>10.29</td>\n",
       "      <td>32.951</td>\n",
       "      <td>25.304</td>\n",
       "      <td>6.04</td>\n",
       "      <td>10</td>\n",
       "    </tr>\n",
       "    <tr>\n",
       "      <th>3</th>\n",
       "      <td>10.29</td>\n",
       "      <td>32.990</td>\n",
       "      <td>25.335</td>\n",
       "      <td>6.06</td>\n",
       "      <td>15</td>\n",
       "    </tr>\n",
       "    <tr>\n",
       "      <th>4</th>\n",
       "      <td>10.33</td>\n",
       "      <td>33.005</td>\n",
       "      <td>25.339</td>\n",
       "      <td>6.04</td>\n",
       "      <td>20</td>\n",
       "    </tr>\n",
       "    <tr>\n",
       "      <th>...</th>\n",
       "      <td>...</td>\n",
       "      <td>...</td>\n",
       "      <td>...</td>\n",
       "      <td>...</td>\n",
       "      <td>...</td>\n",
       "    </tr>\n",
       "    <tr>\n",
       "      <th>663258</th>\n",
       "      <td>44.00</td>\n",
       "      <td>23.000</td>\n",
       "      <td>48.000</td>\n",
       "      <td>66.00</td>\n",
       "      <td>53</td>\n",
       "    </tr>\n",
       "    <tr>\n",
       "      <th>663260</th>\n",
       "      <td>57.00</td>\n",
       "      <td>20.000</td>\n",
       "      <td>37.000</td>\n",
       "      <td>57.00</td>\n",
       "      <td>83</td>\n",
       "    </tr>\n",
       "    <tr>\n",
       "      <th>663262</th>\n",
       "      <td>47.00</td>\n",
       "      <td>67.000</td>\n",
       "      <td>88.000</td>\n",
       "      <td>87.00</td>\n",
       "      <td>7</td>\n",
       "    </tr>\n",
       "    <tr>\n",
       "      <th>663264</th>\n",
       "      <td>29.00</td>\n",
       "      <td>50.000</td>\n",
       "      <td>16.000</td>\n",
       "      <td>18.00</td>\n",
       "      <td>79</td>\n",
       "    </tr>\n",
       "    <tr>\n",
       "      <th>663266</th>\n",
       "      <td>96.00</td>\n",
       "      <td>49.000</td>\n",
       "      <td>41.000</td>\n",
       "      <td>99.00</td>\n",
       "      <td>92</td>\n",
       "    </tr>\n",
       "  </tbody>\n",
       "</table>\n",
       "<p>662268 rows × 5 columns</p>\n",
       "</div>"
      ],
      "text/plain": [
       "        T_degC  Salnty  STheta  O2ml_L  Depthm\n",
       "0        10.30  33.030  25.364    5.90       0\n",
       "1        18.46  32.920  23.568    6.02       6\n",
       "2        10.29  32.951  25.304    6.04      10\n",
       "3        10.29  32.990  25.335    6.06      15\n",
       "4        10.33  33.005  25.339    6.04      20\n",
       "...        ...     ...     ...     ...     ...\n",
       "663258   44.00  23.000  48.000   66.00      53\n",
       "663260   57.00  20.000  37.000   57.00      83\n",
       "663262   47.00  67.000  88.000   87.00       7\n",
       "663264   29.00  50.000  16.000   18.00      79\n",
       "663266   96.00  49.000  41.000   99.00      92\n",
       "\n",
       "[662268 rows x 5 columns]"
      ]
     },
     "execution_count": 14,
     "metadata": {},
     "output_type": "execute_result"
    }
   ],
   "source": [
    "dirty_df"
   ]
  },
  {
   "cell_type": "code",
   "execution_count": 16,
   "id": "612bb07e",
   "metadata": {
    "id": "612bb07e"
   },
   "outputs": [],
   "source": [
    "dirty_df.to_csv('data.csv',index=False)"
   ]
  },
  {
   "cell_type": "markdown",
   "id": "03c4718f",
   "metadata": {},
   "source": [
    "## EDA"
   ]
  },
  {
   "cell_type": "code",
   "execution_count": null,
   "id": "76cbf557",
   "metadata": {},
   "outputs": [],
   "source": [
    "df = pd.read_csv('data.csv')"
   ]
  },
  {
   "cell_type": "code",
   "execution_count": 15,
   "id": "f56610af",
   "metadata": {
    "id": "f56610af",
    "outputId": "05ebfd00-0a0a-4c5c-be5e-cb98fee6c638"
   },
   "outputs": [
    {
     "name": "stderr",
     "output_type": "stream",
     "text": [
      "C:\\Users\\58386\\AppData\\Local\\Temp/ipykernel_9992/2148426757.py:7: UserWarning: Matplotlib is currently using module://matplotlib_inline.backend_inline, which is a non-GUI backend, so cannot show the figure.\n",
      "  fig.show()\n"
     ]
    },
    {
     "data": {
      "image/png": "[encoded data removed]",
      "text/plain": [
       "<Figure size 864x288 with 2 Axes>"
      ]
     },
     "metadata": {},
     "output_type": "display_data"
    }
   ],
   "source": [
    "fig, ax = plt.subplots(1, 2, figsize=(12,4))\n",
    "\n",
    "ax[0].scatter(df.Salnty, df.T_degC, alpha=0.5)\n",
    "\n",
    "ax[1].scatter(df.STheta, df.T_degC, alpha=0.5)\n",
    "\n",
    "fig.show()"
   ]
  },
  {
   "cell_type": "markdown",
   "id": "16725ade",
   "metadata": {
    "id": "16725ade"
   },
   "source": [
    "# Train / Test Split & Scaling\n",
    "\n",
    "1) Create X & y objects:\n",
    "\n",
    "- X object should be all 4 predictors. Shape should be: (661268, 4)\n",
    "\n",
    "- y object should be just your target variable (T_degC): Shape should be: (661268, 1)\n",
    "\n",
    "Hint for y: You will need to specify the shape you want. Trying converting y to a numpy array, and then using the .reshape() method."
   ]
  },
  {
   "cell_type": "code",
   "execution_count": 17,
   "id": "51a39d0c",
   "metadata": {
    "id": "51a39d0c"
   },
   "outputs": [],
   "source": [
    "# X,y=df.drop(['T_degC'],axis=1),df['T_degC']\n",
    "X,y=df.drop(['T_degC'],axis=1),df['T_degC']"
   ]
  },
  {
   "cell_type": "code",
   "execution_count": 18,
   "id": "bf924596",
   "metadata": {
    "id": "bf924596",
    "outputId": "37f456e1-5d07-4bfe-e49f-25e16670df7c"
   },
   "outputs": [
    {
     "data": {
      "text/plain": [
       "(662268,)"
      ]
     },
     "execution_count": 18,
     "metadata": {},
     "output_type": "execute_result"
    }
   ],
   "source": [
    "y.shape"
   ]
  },
  {
   "cell_type": "markdown",
   "id": "2642d038",
   "metadata": {
    "id": "2642d038"
   },
   "source": [
    "2) Generate X_train, X_test, y_train & y_test. Use 80% for train & 20% for test."
   ]
  },
  {
   "cell_type": "code",
   "execution_count": 19,
   "id": "861aec72",
   "metadata": {
    "id": "861aec72"
   },
   "outputs": [],
   "source": [
    "X_train,X_test,y_train,y_test = train_test_split(X,y,train_size=0.8,test_size=0.2,random_state=0)"
   ]
  },
  {
   "cell_type": "markdown",
   "id": "e86325d7",
   "metadata": {
    "id": "e86325d7"
   },
   "source": [
    " 3) Scale all features to improve convergence in Gradient Descent. It is highly encouraged that you review the appropriate method of handling scaling with train & test data.\n",
    "\n",
    "Additional info on scaling with train & test sets: https://stats.stackexchange.com/questions/174823/how-to-apply-standardization-normalization-to-train-and-testset-if-prediction-i (Links to an external site.)\n",
    "\n",
    "The easiest approach is to use the sklearn tool \"StandardScaler\" - more info here: http://scikit-learn.org/stable/modules/generated/sklearn.preprocessing.StandardScaler.html (Links to an external site.)\n",
    "\n",
    "You should create two new X objects:\n",
    "- X_train_scaled\n",
    "- X_test_scaled.\n",
    "\n",
    "Note: X_test_scaled must use the scaling parameters learned from training data."
   ]
  },
  {
   "cell_type": "code",
   "execution_count": 20,
   "id": "595563eb",
   "metadata": {
    "id": "595563eb"
   },
   "outputs": [],
   "source": [
    "from sklearn.preprocessing import StandardScaler\n",
    "scaler = StandardScaler() \n",
    "scaler.fit(X_train)\n",
    "X_train_scaled = scaler.fit_transform(X_train)"
   ]
  },
  {
   "cell_type": "code",
   "execution_count": 21,
   "id": "18f1e487",
   "metadata": {
    "id": "18f1e487",
    "outputId": "66efae5f-1134-446b-e673-089fef1520ef"
   },
   "outputs": [
    {
     "data": {
      "text/plain": [
       "array([[-0.63343959, -0.2923997 ,  0.30191964, -0.5555831 ],\n",
       "       [ 0.13812617,  0.36580064, -0.48413191, -0.06225205],\n",
       "       [-0.21469661, -0.29743267,  0.4604794 , -0.38791503],\n",
       "       ...,\n",
       "       [-0.16525648, -0.037396  ,  0.03540431, -0.46530029],\n",
       "       [ 0.14336983,  0.41613031, -0.32894577,  0.09896724],\n",
       "       [-0.32481328, -0.28848517,  0.49084191, -0.47819784]])"
      ]
     },
     "execution_count": 21,
     "metadata": {},
     "output_type": "execute_result"
    }
   ],
   "source": [
    "X_train_scaled"
   ]
  },
  {
   "cell_type": "code",
   "execution_count": 22,
   "id": "ec2aeff9",
   "metadata": {
    "id": "ec2aeff9"
   },
   "outputs": [],
   "source": [
    "scaler = StandardScaler() \n",
    "scaler.fit(X_test)\n",
    "X_test_scaled = scaler.fit_transform(X_test)"
   ]
  },
  {
   "cell_type": "code",
   "execution_count": 23,
   "id": "d1700cda",
   "metadata": {
    "id": "d1700cda",
    "outputId": "80601f5d-f6c2-406d-bd05-ca1a8b89c7f0",
    "scrolled": true
   },
   "outputs": [
    {
     "data": {
      "text/plain": [
       "array([[-0.58981481, -0.50861355,  0.77247201, -0.46173362],\n",
       "       [-0.37569254, -0.92918134,  0.7589785 , -0.63668738],\n",
       "       [ 0.26116374, -0.33610184,  0.59030958, -0.27723693],\n",
       "       ...,\n",
       "       [ 0.40207508,  0.65894124, -0.95807105,  0.88063887],\n",
       "       [-0.04978587,  0.21187656, -0.05737905, -0.22316031],\n",
       "       [ 0.26195096,  0.5242017 , -0.80289565,  0.25398631]])"
      ]
     },
     "execution_count": 23,
     "metadata": {},
     "output_type": "execute_result"
    }
   ],
   "source": [
    "X_test_scaled"
   ]
  },
  {
   "cell_type": "markdown",
   "id": "3dc719e0",
   "metadata": {
    "id": "3dc719e0"
   },
   "source": [
    "## Build Linear Regression Model with sklearn"
   ]
  },
  {
   "cell_type": "code",
   "execution_count": null,
   "id": "0a54d746",
   "metadata": {},
   "outputs": [],
   "source": [
    "# fit model\n",
    "from sklearn.linear_model import LinearRegression\n",
    "\n",
    "lin_reg = LinearRegression()\n",
    "lin_reg.fit(X_train_scaled, y_train)"
   ]
  },
  {
   "cell_type": "code",
   "execution_count": null,
   "id": "a75185ed",
   "metadata": {},
   "outputs": [],
   "source": [
    "y_pred_sklearn = lin_reg.predict(X_test_scaled)"
   ]
  },
  {
   "cell_type": "code",
   "execution_count": null,
   "id": "48d7f729",
   "metadata": {},
   "outputs": [],
   "source": [
    "# model evaluation\n",
    "\n",
    "# test\n",
    "test_mse = MSE(y_test, y_pred_sklearn)\n",
    "print(f\"Test set RMSE:\", test_mse)\n"
   ]
  },
  {
   "cell_type": "code",
   "execution_count": 67,
   "id": "aa48a50c",
   "metadata": {},
   "outputs": [],
   "source": [
    "def compare_three(y_test,y_pred,y_train,y_pred_train):\n",
    "    test_mse = MSE(y_test, y_pred)\n",
    "    train_mse = MSE(y_train, y_pred_train)\n",
    "    print(f\"Test set MSE:\", test_mse)\n",
    "    print(f\"Train set MSE:\", train_mse)\n",
    "\n",
    "    test_r2=sklearn.metrics.r2_score(y_test, y_pred, sample_weight=None, multioutput='uniform_average')\n",
    "    train_r2=sklearn.metrics.r2_score(y_train, y_pred_train, sample_weight=None, multioutput='uniform_average')\n",
    "\n",
    "    print(f\"Test set R2:\", test_r2)\n",
    "    print(f\"Train set R2:\", train_r2)\n",
    "\n",
    "    test_ev= sklearn.metrics.explained_variance_score(y_test, y_pred, sample_weight=None, multioutput='uniform_average')\n",
    "    train_ev= sklearn.metrics.explained_variance_score(y_train, y_pred_train, sample_weight=None, multioutput='uniform_average')\n",
    "\n",
    "    print(f\"Test set explained variance:\", test_ev)\n",
    "    print(f\"Train set explained variance:\", train_ev)"
   ]
  },
  {
   "cell_type": "code",
   "execution_count": null,
   "id": "58187d56",
   "metadata": {},
   "outputs": [],
   "source": [
    "compare_three(y_test,y_pred_sklearn,y_train,y_pred_train)\n",
    "plt.scatter(y_test, y_pred, alpha=0.5)\n",
    "plt.xlabel('y_test')\n",
    "plt.ylabel('y_pred')"
   ]
  },
  {
   "cell_type": "code",
   "execution_count": null,
   "id": "5b10a032",
   "metadata": {},
   "outputs": [],
   "source": [
    "plt.scatter(y_test, y_pred_sklearn, alpha=0.5)\n",
    "plt.xlabel('y_test')\n",
    "plt.ylabel('y_pred')\n",
    "plt.show()"
   ]
  },
  {
   "cell_type": "markdown",
   "id": "48b727eb",
   "metadata": {},
   "source": [
    "## Build DP Model with TensorFlow"
   ]
  },
  {
   "cell_type": "code",
   "execution_count": 56,
   "id": "11e1ee0f",
   "metadata": {},
   "outputs": [],
   "source": [
    "epochs = 3\n",
    "batch_size = 250\n",
    "\n",
    "l2_norm_clip = 1.5\n",
    "noise_multiplier = 1.3\n",
    "num_microbatches = 1\n",
    "learning_rate = 0.25\n",
    "\n",
    "if batch_size % num_microbatches != 0:\n",
    "  raise ValueError('Batch size should be an integer multiple of the number of microbatches')"
   ]
  },
  {
   "cell_type": "code",
   "execution_count": 57,
   "id": "5c2fde77",
   "metadata": {},
   "outputs": [],
   "source": [
    "optimizer = tensorflow_privacy.DPKerasSGDOptimizer(\n",
    "    l2_norm_clip=l2_norm_clip,\n",
    "    noise_multiplier=noise_multiplier,\n",
    "    num_microbatches=num_microbatches,\n",
    "    learning_rate=learning_rate)\n",
    "\n",
    "loss = tf.keras.losses.CategoricalCrossentropy(\n",
    "    from_logits=True, reduction=tf.losses.Reduction.NONE)"
   ]
  },
  {
   "cell_type": "code",
   "execution_count": null,
   "id": "549d046f",
   "metadata": {},
   "outputs": [],
   "source": [
    "from tensorflow.keras import layers\n",
    "\n",
    "model = tf.keras.Sequential([\n",
    "    layers.Dense(units=1, input_shape=[4])\n",
    "])\n",
    "\n",
    "model.compile(optimizer=optimizer, loss='mean_squared_error', metrics = [tf.keras.metrics.MeanSquaredError(),tf.keras.metrics.Accuracy()])\n",
    "\n",
    "model.fit(X_train_scaled, y_train, epochs=5)"
   ]
  },
  {
   "cell_type": "code",
   "execution_count": 64,
   "id": "0dcb5930",
   "metadata": {},
   "outputs": [
    {
     "name": "stdout",
     "output_type": "stream",
     "text": [
      "Epoch 1/5\n",
      "16557/16557 [==============================] - 22s 1ms/step - loss: 10.4192 - mean_squared_error: 10.4192 - accuracy: 0.0000e+00\n",
      "Epoch 2/5\n",
      "16557/16557 [==============================] - 24s 1ms/step - loss: 10.5796 - mean_squared_error: 10.5796 - accuracy: 0.0000e+00\n",
      "Epoch 3/5\n",
      "16557/16557 [==============================] - 29s 2ms/step - loss: 10.6037 - mean_squared_error: 10.6037 - accuracy: 0.0000e+00\n",
      "Epoch 4/5\n",
      "16557/16557 [==============================] - 79s 5ms/step - loss: 10.5667 - mean_squared_error: 10.5667 - accuracy: 0.0000e+00\n",
      "Epoch 5/5\n",
      "16557/16557 [==============================] - 17s 1ms/step - loss: 10.3197 - mean_squared_error: 10.3197 - accuracy: 0.0000e+00\n"
     ]
    },
    {
     "data": {
      "text/plain": [
       "<keras.callbacks.History at 0x1a39af4bf70>"
      ]
     },
     "execution_count": 64,
     "metadata": {},
     "output_type": "execute_result"
    }
   ],
   "source": [
    "from tensorflow.keras import layers\n",
    "\n",
    "model = tf.keras.Sequential([\n",
    "    layers.Dense(units=1, input_shape=[4])\n",
    "])\n",
    "\n",
    "model.compile(optimizer='sgd', loss='mean_squared_error', metrics = [tf.keras.metrics.MeanSquaredError(),tf.keras.metrics.Accuracy()])\n",
    "\n",
    "model.fit(X_train_scaled, y_train, epochs=5)"
   ]
  },
  {
   "cell_type": "code",
   "execution_count": 65,
   "id": "0eaed89b",
   "metadata": {},
   "outputs": [],
   "source": [
    "y_pred = model.predict(X_test_scaled)\n",
    "y_pred_train = model.predict(X_train_scaled)\n"
   ]
  },
  {
   "cell_type": "code",
   "execution_count": 66,
   "id": "542f369b",
   "metadata": {},
   "outputs": [
    {
     "name": "stdout",
     "output_type": "stream",
     "text": [
      "DP-SGD with sampling rate = 0.0472% and noise_multiplier = 1.3 iterated over 6358 steps satisfies differential privacy with eps = 0.319 and delta = 1e-05.\n",
      "The optimal RDP order is 25.0.\n"
     ]
    },
    {
     "data": {
      "text/plain": [
       "(0.31944565301469846, 25.0)"
      ]
     },
     "execution_count": 66,
     "metadata": {},
     "output_type": "execute_result"
    }
   ],
   "source": [
    "compute_dp_sgd_privacy.compute_dp_sgd_privacy(n=X_train_scaled.shape[0],\n",
    "                                              batch_size=batch_size,\n",
    "                                              noise_multiplier=noise_multiplier,\n",
    "                                              epochs=epochs,\n",
    "                                              delta=1e-5)"
   ]
  },
  {
   "cell_type": "code",
   "execution_count": 68,
   "id": "935594f8",
   "metadata": {},
   "outputs": [
    {
     "name": "stdout",
     "output_type": "stream",
     "text": [
      "Test set MSE: 8.387733878634958\n",
      "Train set MSE: 8.038217140444663\n",
      "Test set R2: 0.6129807025446459\n",
      "Train set R2: 0.6250075731160157\n",
      "Test set explained variance: 0.6129958593993872\n",
      "Train set explained variance: 0.6250077350181352\n"
     ]
    },
    {
     "data": {
      "text/plain": [
       "Text(0, 0.5, 'y_pred')"
      ]
     },
     "execution_count": 68,
     "metadata": {},
     "output_type": "execute_result"
    },
    {
     "data": {
      "image/png": "[encoded data removed]",
      "text/plain": [
       "<Figure size 576x288 with 1 Axes>"
      ]
     },
     "metadata": {},
     "output_type": "display_data"
    }
   ],
   "source": [
    "compare_three(y_test,y_pred,y_train,y_pred_train)\n",
    "plt.scatter(y_test, y_pred, alpha=0.5)\n",
    "plt.xlabel('y_test')\n",
    "plt.ylabel('y_pred')"
   ]
  },
  {
   "cell_type": "code",
   "execution_count": null,
   "id": "f53b5a98",
   "metadata": {
    "id": "f53b5a98",
    "outputId": "253f3f91-62a9-413b-ae51-d7426c79a564"
   },
   "outputs": [
    {
     "data": {
      "image/png": "[encoded data removed]",
      "text/plain": [
       "<Figure size 576x288 with 1 Axes>"
      ]
     },
     "metadata": {},
     "output_type": "display_data"
    }
   ],
   "source": [
    "plt.scatter(y_test, y_pred, alpha=0.5)\n",
    "plt.xlabel('y_test')\n",
    "plt.ylabel('y_pred')\n",
    "plt.show()"
   ]
  }
 ],
 "metadata": {
  "colab": {
   "collapsed_sections": [],
   "name": "HW 2.ipynb",
   "provenance": []
  },
  "kernelspec": {
   "display_name": "Python 3",
   "language": "python",
   "name": "python3"
  },
  "language_info": {
   "codemirror_mode": {
    "name": "ipython",
    "version": 3
   },
   "file_extension": ".py",
   "mimetype": "text/x-python",
   "name": "python",
   "nbconvert_exporter": "python",
   "pygments_lexer": "ipython3",
   "version": "3.8.8"
  },
  "vscode": {
   "interpreter": {
    "hash": "d61c8c14b2b08d6ca869c9cb0d756abc0c62b40bc1b6b2d47cb9db780a359cc7"
   }
  }
 },
 "nbformat": 4,
 "nbformat_minor": 5
}
